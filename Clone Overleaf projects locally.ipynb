{
 "cells": [
  {
   "cell_type": "markdown",
   "metadata": {},
   "source": [
    "## Clone Overleaf Projects locally\n",
    "\n",
    "This is a hack to clone your your [Overleaf](https://overleaf.com) projects at once.\n",
    "I had a specific use case where I wanted to clone projects with a particular tag.\n",
    "\n",
    "## To install\n",
    "\n",
    "pip install robobrowser, gitpython\n"
   ]
  },
  {
   "cell_type": "code",
   "execution_count": 25,
   "metadata": {
    "collapsed": false
   },
   "outputs": [],
   "source": [
    "from robobrowser import RoboBrowser\n",
    "import git, os, shutil\n",
    "\n",
    "browser = RoboBrowser(history=True)\n",
    "browser.open('https://www.overleaf.com/users/sign_in')\n",
    "form = browser.get_form(action='/users/sign_in')\n",
    "form['user[email]'].value = '****@gmail.com'\n",
    "form['user[password]'].value = '***'\n",
    "browser.submit_form(form)"
   ]
  },
  {
   "cell_type": "code",
   "execution_count": 19,
   "metadata": {
    "collapsed": false
   },
   "outputs": [],
   "source": [
    "browser.open('https://www.overleaf.com/api/v0/current_user/docs/')\n",
    "all_docs_json = browser.response.json()['docs']"
   ]
  },
  {
   "cell_type": "code",
   "execution_count": 24,
   "metadata": {
    "collapsed": false
   },
   "outputs": [
    {
     "name": "stdout",
     "output_type": "stream",
     "text": [
      "Cloning: https://git.overleaf.com/5199092pchqrn\n",
      "Skipping Smith Lab Weekly Report\n",
      "Skipping MATH 542 Final Exam - Problem 1\n",
      "Skipping MATH 505B Homework 5\n",
      "Skipping An outline of different phylogenetic footprinting based approaches for TFBS prediction\n",
      "Skipping Outline Table\n",
      "Skipping MATH 505B Homework 4\n",
      "Skipping Smith Lab Weekly Report\n",
      "Skipping Different Approaches for TFBS prediction based on phylogenetic footprinting\n",
      "Skipping Different Approaches for TFBS prediction based on phylogenetic footprinting\n",
      "Skipping MATH 542 Homework 11\n",
      "Skipping Smith Lab Weekly Report 04_09_2016\n",
      "Skipping Smith Lab Weekly Report\n",
      "Skipping Outline\n",
      "Skipping MATH 542 Homework 10\n",
      "Skipping Smith Lab Weekly Report\n",
      "Skipping Outline\n",
      "Skipping Timeline of Deliverables\n",
      "Skipping Weekly Report_03_11_2016\n",
      "Skipping Weekly Report_03_04_2016\n",
      "Skipping Locating Transcription Factor Binding Sites: Methods in search of \\textit{moralistic\n",
      "Skipping MATH 542 Homework 9\n",
      "Skipping MATH 542 Homework 8\n",
      "Skipping Transcription Factor Binding Site Prediction \\& Phlyogenetic Footprinting: A Review\n",
      "Skipping Locating Transcription Factor Binding Sites: Methods in search of moralistic motifs\n",
      "Skipping Weekly_Report_02_27_2016\n",
      "Skipping MATH 542 Homework 7\n",
      "Skipping Weekly Report 02_19_2016\n",
      "Skipping MATH 542 Homework 6\n",
      "Skipping Weekly Report\n"
     ]
    }
   ],
   "source": [
    "def clone_repo(doc_json, filter_by=None):\n",
    "    \"\"\" Clone all repos\n",
    "    \n",
    "    docs_json: dict\n",
    "        Dictionary as returned by overleaf for active documents\n",
    "    \n",
    "    filter_by: dict\n",
    "        Dictionary for filtering repos on some key:value criteria\n",
    "        \n",
    "    See example below.\n",
    "    \"\"\"\n",
    "    doc_id  = doc_json['id']\n",
    "    doc_title = doc_json['title']\n",
    "    dir_name =  doc_title.replace(' ', '_') + '__' + doc_id\n",
    "    if filter_by:\n",
    "        for key, value in filter_by.iteritems():\n",
    "            if key in doc_json and doc_json[key] == value:\n",
    "                pass\n",
    "            else:\n",
    "                print 'Skipping {}'.format(doc_title)\n",
    "                return\n",
    "    remote_url = 'https://git.overleaf.com/{}'.format(doc_id)\n",
    "    if doc_json['protected']:\n",
    "        print 'Skipping private repo: {}'.format(remote_url)\n",
    "    print 'Cloning: {}'.format(remote_url)\n",
    "    if os.path.isdir(dir_name):\n",
    "        shutil.rmtree(dir_name)\n",
    "    os.mkdir(dir_name)\n",
    "    repo = git.Repo.init(dir_name)\n",
    "    origin = repo.create_remote('origin',remote_url)\n",
    "    origin.fetch()\n",
    "    origin.pull(origin.refs[0].remote_head)\n",
    "    \n",
    "for doc_json in all_docs_json:\n",
    "    clone_repo(doc_json, filter_by= {'tags': ['testproject']})\n",
    "\n"
   ]
  },
  {
   "cell_type": "code",
   "execution_count": null,
   "metadata": {
    "collapsed": true
   },
   "outputs": [],
   "source": []
  }
 ],
 "metadata": {
  "kernelspec": {
   "display_name": "Python 2",
   "language": "python",
   "name": "python2"
  },
  "language_info": {
   "codemirror_mode": {
    "name": "ipython",
    "version": 2
   },
   "file_extension": ".py",
   "mimetype": "text/x-python",
   "name": "python",
   "nbconvert_exporter": "python",
   "pygments_lexer": "ipython2",
   "version": "2.7.11"
  }
 },
 "nbformat": 4,
 "nbformat_minor": 0
}
